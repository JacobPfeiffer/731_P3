{
 "cells": [
  {
   "cell_type": "markdown",
   "metadata": {},
   "source": [
    "I downloaded the MovieLens latest small datasets from the link below. \n",
    "https://grouplens.org/datasets/movielens/"
   ]
  },
  {
   "cell_type": "code",
   "execution_count": 425,
   "metadata": {},
   "outputs": [],
   "source": [
    "import numpy as np\n",
    "import pandas as pd\n",
    "from sklearn import preprocessing\n",
    "from sklearn.cluster import DBSCAN\n",
    "import sklearn.utils\n",
    "import matplotlib.pyplot as plt\n",
    "from sklearn.cluster import KMeans\n",
    "\n"
   ]
  },
  {
   "cell_type": "code",
   "execution_count": 426,
   "metadata": {},
   "outputs": [
    {
     "name": "stdout",
     "output_type": "stream",
     "text": [
      "        userId  movieId  rating   timestamp\n",
      "0            1        1     4.0   964982703\n",
      "1            1        3     4.0   964981247\n",
      "2            1        6     4.0   964982224\n",
      "3            1       47     5.0   964983815\n",
      "4            1       50     5.0   964982931\n",
      "...        ...      ...     ...         ...\n",
      "100831     610   166534     4.0  1493848402\n",
      "100832     610   168248     5.0  1493850091\n",
      "100833     610   168250     5.0  1494273047\n",
      "100834     610   168252     5.0  1493846352\n",
      "100835     610   170875     3.0  1493846415\n",
      "\n",
      "[100836 rows x 4 columns]\n",
      "      userId  movieId               tag   timestamp\n",
      "0          2    60756             funny  1445714994\n",
      "1          2    60756   Highly quotable  1445714996\n",
      "2          2    60756      will ferrell  1445714992\n",
      "3          2    89774      Boxing story  1445715207\n",
      "4          2    89774               MMA  1445715200\n",
      "...      ...      ...               ...         ...\n",
      "3678     606     7382         for katie  1171234019\n",
      "3679     606     7936           austere  1173392334\n",
      "3680     610     3265            gun fu  1493843984\n",
      "3681     610     3265  heroic bloodshed  1493843978\n",
      "3682     610   168248  Heroic Bloodshed  1493844270\n",
      "\n",
      "[3683 rows x 4 columns]\n"
     ]
    }
   ],
   "source": [
    "# load data into pandas dataframe\n",
    "ratings = pd.read_csv('../data/raw/ml-latest-small/ratings.csv')\n",
    "tags = pd.read_csv('../data/raw/ml-latest-small/tags.csv')\n",
    "print(ratings)\n",
    "print(tags)"
   ]
  },
  {
   "cell_type": "code",
   "execution_count": 427,
   "metadata": {
    "scrolled": true
   },
   "outputs": [],
   "source": [
    "# merged on userId and movieId since these are the common columns\n",
    "movieData = pd.merge(ratings,tags,on=['userId','movieId'], how = 'outer')\n",
    "# deleted timestamps because most data points had different timestamp making it hard to merge without nan's\n",
    "movieData = movieData.drop(['timestamp_y', 'timestamp_x'], axis=1)\n",
    "\n",
    "# dropped all nan for use in clustering algs later on\n",
    "movieData = movieData.dropna()\n",
    "# changed all tags to lowercase for better encoding\n",
    "movieData['tag'] = movieData['tag'].str.lower()"
   ]
  },
  {
   "cell_type": "markdown",
   "metadata": {},
   "source": [
    "Maybe there is a correlation between length of tas and ratings. The scale for the ratings may not really be 0-5. I will look at the distribution to determine the practical ratings range."
   ]
  },
  {
   "cell_type": "code",
   "execution_count": 428,
   "metadata": {},
   "outputs": [
    {
     "data": {
      "text/html": [
       "<div>\n",
       "<style scoped>\n",
       "    .dataframe tbody tr th:only-of-type {\n",
       "        vertical-align: middle;\n",
       "    }\n",
       "\n",
       "    .dataframe tbody tr th {\n",
       "        vertical-align: top;\n",
       "    }\n",
       "\n",
       "    .dataframe thead th {\n",
       "        text-align: right;\n",
       "    }\n",
       "</style>\n",
       "<table border=\"1\" class=\"dataframe\">\n",
       "  <thead>\n",
       "    <tr style=\"text-align: right;\">\n",
       "      <th></th>\n",
       "      <th>userId</th>\n",
       "      <th>movieId</th>\n",
       "      <th>rating</th>\n",
       "      <th>tag</th>\n",
       "      <th>tagLength</th>\n",
       "    </tr>\n",
       "  </thead>\n",
       "  <tbody>\n",
       "    <tr>\n",
       "      <th>1</th>\n",
       "      <td>2</td>\n",
       "      <td>60756</td>\n",
       "      <td>5.0</td>\n",
       "      <td>9</td>\n",
       "      <td>5</td>\n",
       "    </tr>\n",
       "    <tr>\n",
       "      <th>2</th>\n",
       "      <td>2</td>\n",
       "      <td>60756</td>\n",
       "      <td>5.0</td>\n",
       "      <td>9</td>\n",
       "      <td>15</td>\n",
       "    </tr>\n",
       "    <tr>\n",
       "      <th>3</th>\n",
       "      <td>2</td>\n",
       "      <td>60756</td>\n",
       "      <td>5.0</td>\n",
       "      <td>9</td>\n",
       "      <td>12</td>\n",
       "    </tr>\n",
       "    <tr>\n",
       "      <th>4</th>\n",
       "      <td>2</td>\n",
       "      <td>89774</td>\n",
       "      <td>5.0</td>\n",
       "      <td>9</td>\n",
       "      <td>12</td>\n",
       "    </tr>\n",
       "    <tr>\n",
       "      <th>5</th>\n",
       "      <td>2</td>\n",
       "      <td>89774</td>\n",
       "      <td>5.0</td>\n",
       "      <td>9</td>\n",
       "      <td>3</td>\n",
       "    </tr>\n",
       "    <tr>\n",
       "      <th>...</th>\n",
       "      <td>...</td>\n",
       "      <td>...</td>\n",
       "      <td>...</td>\n",
       "      <td>...</td>\n",
       "      <td>...</td>\n",
       "    </tr>\n",
       "    <tr>\n",
       "      <th>3472</th>\n",
       "      <td>606</td>\n",
       "      <td>6107</td>\n",
       "      <td>4.0</td>\n",
       "      <td>7</td>\n",
       "      <td>12</td>\n",
       "    </tr>\n",
       "    <tr>\n",
       "      <th>3473</th>\n",
       "      <td>606</td>\n",
       "      <td>7382</td>\n",
       "      <td>4.5</td>\n",
       "      <td>8</td>\n",
       "      <td>9</td>\n",
       "    </tr>\n",
       "    <tr>\n",
       "      <th>3474</th>\n",
       "      <td>610</td>\n",
       "      <td>3265</td>\n",
       "      <td>5.0</td>\n",
       "      <td>9</td>\n",
       "      <td>6</td>\n",
       "    </tr>\n",
       "    <tr>\n",
       "      <th>3475</th>\n",
       "      <td>610</td>\n",
       "      <td>3265</td>\n",
       "      <td>5.0</td>\n",
       "      <td>9</td>\n",
       "      <td>16</td>\n",
       "    </tr>\n",
       "    <tr>\n",
       "      <th>3476</th>\n",
       "      <td>610</td>\n",
       "      <td>168248</td>\n",
       "      <td>5.0</td>\n",
       "      <td>9</td>\n",
       "      <td>16</td>\n",
       "    </tr>\n",
       "  </tbody>\n",
       "</table>\n",
       "<p>3476 rows × 5 columns</p>\n",
       "</div>"
      ],
      "text/plain": [
       "      userId  movieId  rating  tag  tagLength\n",
       "1          2    60756     5.0    9          5\n",
       "2          2    60756     5.0    9         15\n",
       "3          2    60756     5.0    9         12\n",
       "4          2    89774     5.0    9         12\n",
       "5          2    89774     5.0    9          3\n",
       "...      ...      ...     ...  ...        ...\n",
       "3472     606     6107     4.0    7         12\n",
       "3473     606     7382     4.5    8          9\n",
       "3474     610     3265     5.0    9          6\n",
       "3475     610     3265     5.0    9         16\n",
       "3476     610   168248     5.0    9         16\n",
       "\n",
       "[3476 rows x 5 columns]"
      ]
     },
     "execution_count": 428,
     "metadata": {},
     "output_type": "execute_result"
    }
   ],
   "source": [
    "# python list comprehension without a condition\n",
    "tagLength = [len(x) for x in movieData['tag']]\n",
    "movieData['tagLength'] = tagLength\n",
    "\n",
    "# encode the tags for when I run clustering algs since tags are strings\n",
    "encodeTag = preprocessing.LabelEncoder()\n",
    "encodeTag.fit(movieData.iloc[:, 2].values)\n",
    "Tag = encodeTag.transform(movieData.iloc[:, 2].values)\n",
    "movieData['tag'] = Tag\n",
    "# reindex for removed rows starting with 1\n",
    "movieData.index = np.arange(1, len(movieData)+1)\n",
    "\n",
    "\n",
    "movieData"
   ]
  },
  {
   "cell_type": "code",
   "execution_count": 429,
   "metadata": {},
   "outputs": [
    {
     "name": "stdout",
     "output_type": "stream",
     "text": [
      "            userId        movieId       rating          tag    tagLength\n",
      "count  3476.000000    3476.000000  3476.000000  3476.000000  3476.000000\n",
      "mean    429.785386   28009.502301     4.016830     7.033659    10.011507\n",
      "std     161.552990   44138.125029     0.856925     1.713851     4.743357\n",
      "min       2.000000       1.000000     0.500000     0.000000     2.000000\n",
      "25%     424.000000    1261.500000     3.500000     6.000000     6.000000\n",
      "50%     474.000000    4492.000000     4.000000     7.000000     9.000000\n",
      "75%     523.250000   45499.000000     5.000000     9.000000    12.000000\n",
      "max     610.000000  193565.000000     5.000000     9.000000    85.000000\n"
     ]
    },
    {
     "data": {
      "text/plain": [
       "array([[<matplotlib.axes._subplots.AxesSubplot object at 0x7fc1ad98e970>]],\n",
       "      dtype=object)"
      ]
     },
     "execution_count": 429,
     "metadata": {},
     "output_type": "execute_result"
    },
    {
     "data": {
      "image/png": "[encoded data removed]",
      "text/plain": [
       "<Figure size 432x288 with 1 Axes>"
      ]
     },
     "metadata": {
      "needs_background": "light"
     },
     "output_type": "display_data"
    },
    {
     "data": {
      "image/png": "[encoded data removed]",
      "text/plain": [
       "<Figure size 432x288 with 1 Axes>"
      ]
     },
     "metadata": {
      "needs_background": "light"
     },
     "output_type": "display_data"
    },
    {
     "data": {
      "image/png": "[encoded data removed]",
      "text/plain": [
       "<Figure size 432x288 with 1 Axes>"
      ]
     },
     "metadata": {
      "needs_background": "light"
     },
     "output_type": "display_data"
    }
   ],
   "source": [
    "print(movieData.describe())\n",
    "movieData.hist(column='rating')\n",
    "movieData.hist(column='tagLength')\n",
    "movieData.hist(column='tag')"
   ]
  },
  {
   "cell_type": "markdown",
   "metadata": {},
   "source": [
    "Ratings stats show that 75% of users rate between 3.5 and 5. This indicates that the rating scale is really between 3.5 and 5. Ratings distribution is skewed to the right.\n",
    "Only 25% of tags are longer than 12 character (outliers). Tag length is left skewed."
   ]
  },
  {
   "cell_type": "code",
   "execution_count": 430,
   "metadata": {},
   "outputs": [
    {
     "name": "stdout",
     "output_type": "stream",
     "text": [
      "             userId   movieId    rating       tag  tagLength\n",
      "userId     1.000000 -0.333151  0.043002  0.043002  -0.052648\n",
      "movieId   -0.333151  1.000000 -0.011801 -0.011801   0.054428\n",
      "rating     0.043002 -0.011801  1.000000  1.000000   0.064803\n",
      "tag        0.043002 -0.011801  1.000000  1.000000   0.064803\n",
      "tagLength -0.052648  0.054428  0.064803  0.064803   1.000000\n",
      "             userId   movieId    rating       tag  tagLength\n",
      "userId     1.000000 -0.322729  0.061005  0.061005  -0.024438\n",
      "movieId   -0.322729  1.000000 -0.122486 -0.122486  -0.021678\n",
      "rating     0.061005 -0.122486  1.000000  1.000000   0.004281\n",
      "tag        0.061005 -0.122486  1.000000  1.000000   0.004281\n",
      "tagLength -0.024438 -0.021678  0.004281  0.004281   1.000000\n"
     ]
    },
    {
     "data": {
      "text/html": [
       "<div>\n",
       "<style scoped>\n",
       "    .dataframe tbody tr th:only-of-type {\n",
       "        vertical-align: middle;\n",
       "    }\n",
       "\n",
       "    .dataframe tbody tr th {\n",
       "        vertical-align: top;\n",
       "    }\n",
       "\n",
       "    .dataframe thead th {\n",
       "        text-align: right;\n",
       "    }\n",
       "</style>\n",
       "<table border=\"1\" class=\"dataframe\">\n",
       "  <thead>\n",
       "    <tr style=\"text-align: right;\">\n",
       "      <th></th>\n",
       "      <th>rating</th>\n",
       "      <th>tag</th>\n",
       "    </tr>\n",
       "  </thead>\n",
       "  <tbody>\n",
       "    <tr>\n",
       "      <th>1</th>\n",
       "      <td>5.0</td>\n",
       "      <td>9</td>\n",
       "    </tr>\n",
       "    <tr>\n",
       "      <th>2</th>\n",
       "      <td>5.0</td>\n",
       "      <td>9</td>\n",
       "    </tr>\n",
       "    <tr>\n",
       "      <th>3</th>\n",
       "      <td>5.0</td>\n",
       "      <td>9</td>\n",
       "    </tr>\n",
       "    <tr>\n",
       "      <th>4</th>\n",
       "      <td>5.0</td>\n",
       "      <td>9</td>\n",
       "    </tr>\n",
       "    <tr>\n",
       "      <th>5</th>\n",
       "      <td>5.0</td>\n",
       "      <td>9</td>\n",
       "    </tr>\n",
       "    <tr>\n",
       "      <th>...</th>\n",
       "      <td>...</td>\n",
       "      <td>...</td>\n",
       "    </tr>\n",
       "    <tr>\n",
       "      <th>3472</th>\n",
       "      <td>4.0</td>\n",
       "      <td>7</td>\n",
       "    </tr>\n",
       "    <tr>\n",
       "      <th>3473</th>\n",
       "      <td>4.5</td>\n",
       "      <td>8</td>\n",
       "    </tr>\n",
       "    <tr>\n",
       "      <th>3474</th>\n",
       "      <td>5.0</td>\n",
       "      <td>9</td>\n",
       "    </tr>\n",
       "    <tr>\n",
       "      <th>3475</th>\n",
       "      <td>5.0</td>\n",
       "      <td>9</td>\n",
       "    </tr>\n",
       "    <tr>\n",
       "      <th>3476</th>\n",
       "      <td>5.0</td>\n",
       "      <td>9</td>\n",
       "    </tr>\n",
       "  </tbody>\n",
       "</table>\n",
       "<p>3476 rows × 2 columns</p>\n",
       "</div>"
      ],
      "text/plain": [
       "      rating  tag\n",
       "1        5.0    9\n",
       "2        5.0    9\n",
       "3        5.0    9\n",
       "4        5.0    9\n",
       "5        5.0    9\n",
       "...      ...  ...\n",
       "3472     4.0    7\n",
       "3473     4.5    8\n",
       "3474     5.0    9\n",
       "3475     5.0    9\n",
       "3476     5.0    9\n",
       "\n",
       "[3476 rows x 2 columns]"
      ]
     },
     "execution_count": 430,
     "metadata": {},
     "output_type": "execute_result"
    }
   ],
   "source": [
    "correlation = movieData.corr()\n",
    "print(correlation)\n",
    "greaterThan12 = movieData[movieData['tagLength'] >12]\n",
    "print(greaterThan12.corr())\n",
    "movieDataFeatures = movieData[['rating','tag']]\n",
    "movieDataFeatures"
   ]
  },
  {
   "cell_type": "markdown",
   "metadata": {},
   "source": [
    "Low correlation between rating and tag length longer than 12. Low correlation between columns in general. Below I perform kmeans with 3 different n values"
   ]
  },
  {
   "cell_type": "code",
   "execution_count": 431,
   "metadata": {},
   "outputs": [
    {
     "data": {
      "image/png": "[encoded data removed]",
      "text/plain": [
       "<Figure size 576x576 with 2 Axes>"
      ]
     },
     "metadata": {
      "needs_background": "light"
     },
     "output_type": "display_data"
    }
   ],
   "source": [
    "km = KMeans(n_clusters=4).fit(movieDataFeatures)\n",
    "#cent = kmeans.cluster_centers_\n",
    "\n",
    "fig = plt.figure(figsize=(8,8)); ax = fig.add_subplot(111)\n",
    "scatter = ax.scatter(movieDataFeatures['rating'],movieDataFeatures['tag'], c=km.labels_,s=50)\n",
    "ax.set_title('DBSCAN')\n",
    "ax.set_xlabel('Rating'); ax.set_ylabel('Tag')\n",
    "plt.colorbar(scatter); \n",
    "plt.show()"
   ]
  },
  {
   "cell_type": "code",
   "execution_count": 432,
   "metadata": {},
   "outputs": [
    {
     "data": {
      "image/png": "[encoded data removed]",
      "text/plain": [
       "<Figure size 576x576 with 2 Axes>"
      ]
     },
     "metadata": {
      "needs_background": "light"
     },
     "output_type": "display_data"
    }
   ],
   "source": [
    "km = KMeans(n_clusters=5).fit(movieDataFeatures)\n",
    "#cent = kmeans.cluster_centers_\n",
    "\n",
    "fig = plt.figure(figsize=(8,8)); ax = fig.add_subplot(111)\n",
    "scatter = ax.scatter(movieDataFeatures['rating'],movieDataFeatures['tag'], c=km.labels_,s=50)\n",
    "ax.set_title('DBSCAN')\n",
    "ax.set_xlabel('Rating'); ax.set_ylabel('Tag')\n",
    "plt.colorbar(scatter); \n",
    "plt.show()"
   ]
  },
  {
   "cell_type": "code",
   "execution_count": 433,
   "metadata": {},
   "outputs": [
    {
     "data": {
      "image/png": "[encoded data removed]",
      "text/plain": [
       "<Figure size 576x576 with 2 Axes>"
      ]
     },
     "metadata": {
      "needs_background": "light"
     },
     "output_type": "display_data"
    }
   ],
   "source": [
    "km = KMeans(n_clusters=10).fit(movieDataFeatures)\n",
    "\n",
    "\n",
    "\n",
    "fig = plt.figure(figsize=(8,8)); ax = fig.add_subplot(111)\n",
    "scatter = ax.scatter(movieDataFeatures['rating'],movieDataFeatures['tag'], c=km.labels_,s=50)\n",
    "ax.set_title('DBSCAN')\n",
    "ax.set_xlabel('Rating'); ax.set_ylabel('Tag')\n",
    "plt.colorbar(scatter); \n",
    "plt.show()"
   ]
  },
  {
   "cell_type": "markdown",
   "metadata": {},
   "source": [
    "Below I run DBSCAN."
   ]
  },
  {
   "cell_type": "code",
   "execution_count": 434,
   "metadata": {},
   "outputs": [
    {
     "name": "stdout",
     "output_type": "stream",
     "text": [
      "0       0\n",
      "1       0\n",
      "2       0\n",
      "3       0\n",
      "4       0\n",
      "       ..\n",
      "3471    2\n",
      "3472    3\n",
      "3473    0\n",
      "3474    0\n",
      "3475    0\n",
      "Name: 0, Length: 3476, dtype: int64\n"
     ]
    }
   ],
   "source": [
    "model = DBSCAN(eps=0.25, min_samples = 10).fit(movieDataFeatures)\n",
    "clusters = pd.DataFrame(model.fit_predict(movieDataFeatures))\n",
    "movieData['Clusters'] = clusters\n",
    "print(clusters[0])"
   ]
  },
  {
   "cell_type": "code",
   "execution_count": 435,
   "metadata": {},
   "outputs": [
    {
     "data": {
      "image/png": "[encoded data removed]",
      "text/plain": [
       "<Figure size 576x576 with 2 Axes>"
      ]
     },
     "metadata": {
      "needs_background": "light"
     },
     "output_type": "display_data"
    }
   ],
   "source": [
    "fig = plt.figure(figsize=(8,8)); ax = fig.add_subplot(111)\n",
    "scatter = ax.scatter(movieDataFeatures['rating'],movieDataFeatures['tag'], c=clusters[0],s=50)\n",
    "ax.set_title('DBSCAN')\n",
    "ax.set_xlabel('Rating'); ax.set_ylabel('Tag')\n",
    "plt.colorbar(scatter); \n",
    "plt.show()"
   ]
  }
 ],
 "metadata": {
  "kernelspec": {
   "display_name": "Python 3",
   "language": "python",
   "name": "python3"
  },
  "language_info": {
   "codemirror_mode": {
    "name": "ipython",
    "version": 3
   },
   "file_extension": ".py",
   "mimetype": "text/x-python",
   "name": "python",
   "nbconvert_exporter": "python",
   "pygments_lexer": "ipython3",
   "version": "3.8.3"
  }
 },
 "nbformat": 4,
 "nbformat_minor": 4
}
